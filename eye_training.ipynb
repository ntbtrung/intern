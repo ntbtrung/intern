{
 "cells": [
  {
   "cell_type": "code",
   "execution_count": null,
   "metadata": {},
   "outputs": [],
   "source": [
    "import numpy as np\n",
    "import matplotlib.pyplot as plt\n",
    "import cv2\n",
    "import os\n",
    "import glob as gb\n",
    "import tensorflow as tf"
   ]
  },
  {
   "cell_type": "code",
   "execution_count": null,
   "metadata": {},
   "outputs": [],
   "source": [
    "size=94\n",
    "train_dir='../input/eye-dataset/Eye dataset/'\n",
    "\n",
    "train_generator=tf.keras.preprocessing.image.ImageDataGenerator(\n",
    "    rescale=1/255.0,\n",
    "    validation_split=0.1,\n",
    ").flow_from_directory(train_dir,batch_size=16,target_size=(size,size),subset=\"training\",shuffle=True)"
   ]
  },
  {
   "cell_type": "code",
   "execution_count": null,
   "metadata": {},
   "outputs": [],
   "source": [
    "classes=list(train_generator.class_indices.keys())\n",
    "plt.figure(figsize=(20,20))\n",
    "for X_batch, y_batch in train_generator:\n",
    "    # create a grid of 3x3 images\n",
    "    for i in range(0,16):\n",
    "        plt.subplot(4,4,i+1)\n",
    "        plt.imshow(X_batch[i])\n",
    "        plt.title(classes[np.where(y_batch[i]==1)[0][0]])\n",
    "    # show the plot\n",
    "    plt.show()\n",
    "    break"
   ]
  },
  {
   "cell_type": "code",
   "execution_count": null,
   "metadata": {},
   "outputs": [],
   "source": [
    "valid_generator=tf.keras.preprocessing.image.ImageDataGenerator(\n",
    "    rescale=1/255.0,\n",
    "    validation_split=0.1,\n",
    ").flow_from_directory(train_dir,batch_size=16,target_size=(size,size),subset='validation',shuffle=True)"
   ]
  },
  {
   "cell_type": "code",
   "execution_count": null,
   "metadata": {},
   "outputs": [],
   "source": [
    "classes=list(valid_generator.class_indices.keys())\n",
    "plt.figure(figsize=(20,20))\n",
    "for X_batch, y_batch in valid_generator:\n",
    "    # create a grid of 3x3 images\n",
    "    for i in range(0,16):\n",
    "        plt.subplot(4,4,i+1)\n",
    "        plt.imshow(X_batch[i])\n",
    "        plt.title(classes[np.where(y_batch[i]==1)[0][0]])\n",
    "    # show the plot\n",
    "    plt.show()\n",
    "    break"
   ]
  },
  {
   "cell_type": "code",
   "execution_count": null,
   "metadata": {},
   "outputs": [],
   "source": [
    "test_generator=tf.keras.preprocessing.image.ImageDataGenerator(\n",
    "    rescale=1/255.0,\n",
    "    validation_split=0.1\n",
    ").flow_from_directory(train_dir,batch_size=16,target_size=(size,size),subset='validation',shuffle=True)\n"
   ]
  },
  {
   "cell_type": "code",
   "execution_count": null,
   "metadata": {},
   "outputs": [],
   "source": [
    "classes=list(test_generator.class_indices.keys())\n",
    "plt.figure(figsize=(20,20))\n",
    "for X_batch, y_batch in test_generator:\n",
    "    # create a grid of 3x3 images\n",
    "    for i in range(0,16):\n",
    "        plt.subplot(4,4,i+1)\n",
    "        plt.imshow(X_batch[i])\n",
    "        plt.title(classes[np.where(y_batch[i]==1)[0][0]])\n",
    "    # show the plot\n",
    "    plt.show()\n",
    "    break"
   ]
  },
  {
   "cell_type": "code",
   "execution_count": null,
   "metadata": {},
   "outputs": [],
   "source": [
    "classes"
   ]
  },
  {
   "cell_type": "code",
   "execution_count": null,
   "metadata": {},
   "outputs": [],
   "source": [
    "from tensorflow.keras.models import Sequential \n",
    "from tensorflow.keras.layers import Dense ,Flatten ,Conv2D ,MaxPooling2D ,Dropout ,BatchNormalization ,GlobalMaxPool2D\n",
    "from tensorflow.keras.optimizers import Adam\n",
    "from tensorflow.keras.callbacks import EarlyStopping ,ReduceLROnPlateau ,ModelCheckpoint"
   ]
  },
  {
   "cell_type": "code",
   "execution_count": null,
   "metadata": {},
   "outputs": [],
   "source": [
    "optimizer_adam=Adam(learning_rate=0.001,beta_1=0.9,beta_2=0.99)"
   ]
  },
  {
   "cell_type": "code",
   "execution_count": null,
   "metadata": {},
   "outputs": [],
   "source": [
    "EarlyStop=EarlyStopping(patience=10,restore_best_weights=True)\n",
    "Reduce_LR=ReduceLROnPlateau(monitor='val_accuracy',verbose=2,factor=0.5,min_lr=0.00001)\n",
    "model_check=ModelCheckpoint('model.hdf5',monitor='val_loss',verbose=1,save_best_only=True)\n",
    "callback=[EarlyStop , Reduce_LR,model_check]"
   ]
  },
  {
   "cell_type": "code",
   "execution_count": null,
   "metadata": {},
   "outputs": [],
   "source": [
    "model=Sequential([\n",
    "                  Conv2D(32,3,activation='relu',kernel_initializer='he_normal',input_shape=(size,size,3)),\n",
    "                  Conv2D(64,3,activation='relu',kernel_initializer='he_normal'),\n",
    "                  BatchNormalization(),\n",
    "                  MaxPooling2D(3),\n",
    "    \n",
    "                  Conv2D(128,3,activation='relu',kernel_initializer='he_normal'),\n",
    "                  BatchNormalization(),\n",
    "                  MaxPooling2D(3),\n",
    "    \n",
    "                  Conv2D(256,3,activation='relu',kernel_initializer='he_normal'),\n",
    "                  BatchNormalization(),\n",
    "                  MaxPooling2D(3),\n",
    "    \n",
    "                  Flatten(),\n",
    "                  Dense(64,activation='relu',kernel_initializer='he_normal'),\n",
    "                  BatchNormalization(),\n",
    "                  Dense(4,activation='softmax',kernel_initializer='glorot_normal')\n",
    "                  \n",
    "])"
   ]
  },
  {
   "cell_type": "code",
   "execution_count": null,
   "metadata": {},
   "outputs": [],
   "source": [
    "model.summary()"
   ]
  },
  {
   "cell_type": "code",
   "execution_count": null,
   "metadata": {},
   "outputs": [],
   "source": [
    "model.compile(optimizer=optimizer_adam,loss='categorical_crossentropy',metrics=['accuracy'])"
   ]
  },
  {
   "cell_type": "code",
   "execution_count": null,
   "metadata": {},
   "outputs": [],
   "source": [
    "history=model.fit(train_generator,validation_data=valid_generator,epochs=50,batch_size=16,\n",
    "                  steps_per_epoch=len(train_generator)//16,validation_steps=len(valid_generator)//16,\n",
    "                  callbacks=callback, verbose=1)"
   ]
  },
  {
   "cell_type": "code",
   "execution_count": null,
   "metadata": {},
   "outputs": [],
   "source": [
    "#plotting training values\n",
    "import seaborn as sns\n",
    "sns.set()\n",
    "\n",
    "acc = history.history['accuracy']\n",
    "val_acc = history.history['val_accuracy']\n",
    "loss = history.history['loss']\n",
    "val_loss = history.history['val_loss']\n",
    "epochs = range(1, len(loss) + 1)"
   ]
  },
  {
   "cell_type": "code",
   "execution_count": null,
   "metadata": {},
   "outputs": [],
   "source": [
    "#accuracy plot\n",
    "plt.plot(epochs, acc, color='green', label='Training Accuracy')\n",
    "plt.plot(epochs, val_acc, color='blue', label='Validation Accuracy')\n",
    "plt.title('Training and Validation Accuracy')\n",
    "plt.ylabel('Accuracy')\n",
    "plt.xlabel('Epoch')\n",
    "plt.legend()"
   ]
  },
  {
   "cell_type": "code",
   "execution_count": null,
   "metadata": {},
   "outputs": [],
   "source": [
    "#loss plot\n",
    "plt.plot(epochs, loss, color='green', label='Training Loss')\n",
    "plt.plot(epochs, val_loss, color='red', label='Validation Loss')\n",
    "plt.title('Training and Validation Loss')\n",
    "plt.xlabel('Epoch')\n",
    "plt.ylabel('Loss')\n",
    "plt.legend()\n",
    "\n",
    "plt.show()"
   ]
  },
  {
   "cell_type": "code",
   "execution_count": null,
   "metadata": {},
   "outputs": [],
   "source": [
    "import pandas as pd\n",
    "pd.DataFrame(history.history).plot(figsize=(8, 5))\n",
    "plt.grid(True)\n",
    "plt.gca().set_ylim(0, 1)\n",
    "plt.show()"
   ]
  }
 ],
 "metadata": {
  "language_info": {
   "name": "python"
  }
 },
 "nbformat": 4,
 "nbformat_minor": 2
}
